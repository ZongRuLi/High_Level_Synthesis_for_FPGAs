{
 "cells": [
  {
   "cell_type": "code",
   "execution_count": 1,
   "metadata": {},
   "outputs": [
    {
     "data": {
      "application/javascript": [
       "\n",
       "try {\n",
       "require(['notebook/js/codecell'], function(codecell) {\n",
       "  codecell.CodeCell.options_default.highlight_modes[\n",
       "      'magic_text/x-csrc'] = {'reg':[/^%%microblaze/]};\n",
       "  Jupyter.notebook.events.one('kernel_ready.Kernel', function(){\n",
       "      Jupyter.notebook.get_cells().map(function(cell){\n",
       "          if (cell.cell_type == 'code'){ cell.auto_highlight(); } }) ;\n",
       "  });\n",
       "});\n",
       "} catch (e) {};\n"
      ]
     },
     "metadata": {},
     "output_type": "display_data"
    },
    {
     "data": {
      "application/javascript": [
       "\n",
       "try {\n",
       "require(['notebook/js/codecell'], function(codecell) {\n",
       "  codecell.CodeCell.options_default.highlight_modes[\n",
       "      'magic_text/x-csrc'] = {'reg':[/^%%pybind11/]};\n",
       "  Jupyter.notebook.events.one('kernel_ready.Kernel', function(){\n",
       "      Jupyter.notebook.get_cells().map(function(cell){\n",
       "          if (cell.cell_type == 'code'){ cell.auto_highlight(); } }) ;\n",
       "  });\n",
       "});\n",
       "} catch (e) {};\n"
      ]
     },
     "metadata": {},
     "output_type": "display_data"
    }
   ],
   "source": [
    "from pynq import Overlay\n",
    "from pynq import Xlnk # replace with allocate for Pynq >= 2.7\n",
    "import numpy as np"
   ]
  },
  {
   "cell_type": "code",
   "execution_count": 2,
   "metadata": {},
   "outputs": [],
   "source": [
    "ol = Overlay('./axi4_sqrt/axi4_sqrt.bit')\n",
    "sqrt_ip = ol.axi4_sqrt_0 # if you can't find the IP, type 'ol.' and hit Tab to see what options are available\n"
   ]
  },
  {
   "cell_type": "code",
   "execution_count": 27,
   "metadata": {},
   "outputs": [
    {
     "name": "stdout",
     "output_type": "stream",
     "text": [
      "Input\t|\tHardware Output\t|\tSoftware Output \n",
      "\n",
      "0 \t\t0.0 \t\t   0.0\n",
      "1 \t\t1.0 \t\t   1.0\n",
      "4 \t\t2.0 \t\t   2.0\n",
      "9 \t\t3.0 \t\t   3.0\n",
      "16 \t\t4.0 \t\t   4.0\n",
      "25 \t\t5.0 \t\t   5.0\n",
      "36 \t\t6.0 \t\t   6.0\n",
      "49 \t\t7.0 \t\t   7.0\n",
      "64 \t\t8.0 \t\t   8.0\n",
      "81 \t\t9.0 \t\t   9.0\n"
     ]
    },
    {
     "name": "stderr",
     "output_type": "stream",
     "text": [
      "/usr/lib/python3/dist-packages/ipykernel_launcher.py:2: DeprecationWarning: pynq.Xlnk is deprecated and will be removed in 2.7 - use pynq.allocate instead\n",
      "  \n",
      "/usr/lib/python3/dist-packages/ipykernel_launcher.py:3: DeprecationWarning: pynq.Xlnk is deprecated and will be removed in 2.7 - use pynq.allocate instead\n",
      "  This is separate from the ipykernel package so we can avoid doing imports until\n"
     ]
    }
   ],
   "source": [
    "length = 10\n",
    "inpt = Xlnk().cma_array(shape=(length,), dtype=np.float32)\n",
    "outpt = Xlnk().cma_array(shape=(length,), dtype=np.float32)\n",
    "a = [i*i for i in range(length)]\n",
    "np.copyto(inpt, a)\n",
    "soft_op = np.sqrt(inpt)\n",
    "sqrt_ip.write(0x28, length)\n",
    "sqrt_ip.write(0x10, inpt.physical_address&0xFFFFFFFF)\n",
    "sqrt_ip.write(0x14, inpt.physical_address>>32)\n",
    "sqrt_ip.write(0x1C, outpt.physical_address&0xFFFFFFFF)\n",
    "sqrt_ip.write(0x20, outpt.physical_address>>32)\n",
    "sqrt_ip.write(0x00, 1 | 0x40)\n",
    "\n",
    "print(\"Input\\t|\\tHardware Output\\t|\\tSoftware Output \\n\")\n",
    "for i in range(length):\n",
    "    print(a[i],\"\\t\\t{:.1f}\".format(outpt[i]), \"\\t\\t  \", soft_op[i])"
   ]
  },
  {
   "cell_type": "code",
   "execution_count": null,
   "metadata": {},
   "outputs": [],
   "source": []
  }
 ],
 "metadata": {
  "kernelspec": {
   "display_name": "Python 3",
   "language": "python",
   "name": "python3"
  },
  "language_info": {
   "codemirror_mode": {
    "name": "ipython",
    "version": 3
   },
   "file_extension": ".py",
   "mimetype": "text/x-python",
   "name": "python",
   "nbconvert_exporter": "python",
   "pygments_lexer": "ipython3",
   "version": "3.6.5"
  }
 },
 "nbformat": 4,
 "nbformat_minor": 2
}
