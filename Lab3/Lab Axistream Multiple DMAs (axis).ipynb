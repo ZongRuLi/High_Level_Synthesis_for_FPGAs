{
 "cells": [
  {
   "cell_type": "code",
   "execution_count": null,
   "metadata": {},
   "outputs": [],
   "source": [
    "import time\n",
    "from pynq import Overlay\n",
    "import pynq.lib.dma\n",
    "from pynq import Xlnk\n",
    "import numpy as np\n",
    "from pynq import MMIO\n",
    "import random"
   ]
  },
  {
   "cell_type": "code",
   "execution_count": null,
   "metadata": {},
   "outputs": [],
   "source": [
    "ol = Overlay('/home/xilinx/jupyter_notebooks/sadd/sadd.bit') # check this path\n",
    "ol.download() # this downloads your bitstream into FPGA\n",
    "dma1 = ol.streamAdd.sadd_dma1 # first DMA. Note that we had to access the hierarchy before accessing the DMA\n",
    "dma2 = ol.streamAdd.sadd_dma2 # second DMA\n",
    "sadd_ip = MMIO(0x40000000, 0x10000) # we got this address from\n",
    "xlnk = Xlnk()"
   ]
  },
  {
   "cell_type": "code",
   "execution_count": null,
   "metadata": {},
   "outputs": [],
   "source": [
    "length = 8\n",
    "\n",
    "in_buffer1 = xlnk.cma_array(shape=(length,), dtype=np.int32) # input buffer 1\n",
    "in_buffer2 = xlnk.cma_array(shape=(length,), dtype=np.int32) # input buffer 2\n",
    "out_buffer = xlnk.cma_array(shape=(length,), dtype=np.int32) # output buffer\n",
    "\n",
    "samples = random.sample(range(0, length), length)\n",
    "np.copyto(in_buffer1, samples)\n",
    "samples = random.sample(range(0, length), length)\n",
    "np.copyto(in_buffer2, samples)\n",
    "\n",
    "sadd_ip.write(0x10, length) # we got this address from Vivado source. Since we didn't do port=return, and we set a constant for ap_start, we only have to write length.\n",
    "t_start = time.time()\n",
    "dma1.sendchannel.transfer(in_buffer1)\n",
    "dma2.sendchannel.transfer(in_buffer2)\n",
    "dma1.recvchannel.transfer(out_buffer)\n",
    "dma1.sendchannel.wait()\n",
    "dma2.sendchannel.wait()\n",
    "dma1.recvchannel.wait()\n",
    "t_stop = time.time()\n",
    "in_buffer1.close()\n",
    "in_buffer2.close()\n",
    "out_buffer.close()\n",
    "print('Hardware execution time: ', t_stop-t_start)\n",
    "for i in range(0, length):\n",
    "    print('{}+{} = {}'.format(in_buffer1[i], in_buffer2[i], out_buffer[i]))"
   ]
  },
  {
   "cell_type": "code",
   "execution_count": null,
   "metadata": {},
   "outputs": [],
   "source": []
  }
 ],
 "metadata": {
  "kernelspec": {
   "display_name": "Python 3",
   "language": "python",
   "name": "python3"
  },
  "language_info": {
   "codemirror_mode": {
    "name": "ipython",
    "version": 3
   },
   "file_extension": ".py",
   "mimetype": "text/x-python",
   "name": "python",
   "nbconvert_exporter": "python",
   "pygments_lexer": "ipython3",
   "version": "3.6.5"
  }
 },
 "nbformat": 4,
 "nbformat_minor": 2
}
