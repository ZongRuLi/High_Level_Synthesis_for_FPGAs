{
 "cells": [
  {
   "cell_type": "code",
   "execution_count": 1,
   "metadata": {},
   "outputs": [
    {
     "data": {
      "application/javascript": [
       "\n",
       "try {\n",
       "require(['notebook/js/codecell'], function(codecell) {\n",
       "  codecell.CodeCell.options_default.highlight_modes[\n",
       "      'magic_text/x-csrc'] = {'reg':[/^%%microblaze/]};\n",
       "  Jupyter.notebook.events.one('kernel_ready.Kernel', function(){\n",
       "      Jupyter.notebook.get_cells().map(function(cell){\n",
       "          if (cell.cell_type == 'code'){ cell.auto_highlight(); } }) ;\n",
       "  });\n",
       "});\n",
       "} catch (e) {};\n"
      ]
     },
     "metadata": {},
     "output_type": "display_data"
    },
    {
     "data": {
      "application/javascript": [
       "\n",
       "try {\n",
       "require(['notebook/js/codecell'], function(codecell) {\n",
       "  codecell.CodeCell.options_default.highlight_modes[\n",
       "      'magic_text/x-csrc'] = {'reg':[/^%%pybind11/]};\n",
       "  Jupyter.notebook.events.one('kernel_ready.Kernel', function(){\n",
       "      Jupyter.notebook.get_cells().map(function(cell){\n",
       "          if (cell.cell_type == 'code'){ cell.auto_highlight(); } }) ;\n",
       "  });\n",
       "});\n",
       "} catch (e) {};\n"
      ]
     },
     "metadata": {},
     "output_type": "display_data"
    }
   ],
   "source": [
    "import time\n",
    "from pynq import Overlay\n",
    "import pynq.lib.dma\n",
    "from pynq import Xlnk\n",
    "import numpy as np\n",
    "from pynq import MMIO\n",
    "import random"
   ]
  },
  {
   "cell_type": "code",
   "execution_count": 2,
   "metadata": {},
   "outputs": [
    {
     "name": "stderr",
     "output_type": "stream",
     "text": [
      "/usr/lib/python3/dist-packages/ipykernel_launcher.py:5: DeprecationWarning: pynq.Xlnk is deprecated and will be removed in 2.7 - use pynq.allocate instead\n",
      "  \"\"\"\n"
     ]
    }
   ],
   "source": [
    "ol = Overlay('/home/xilinx/jupyter_notebooks/smul/smul.bit') # check your path\n",
    "ol.download() # it downloads your bit to FPGA\n",
    "dma = ol.smul_dma # creating a dma instance. Note that we packed smul and smul_dma into streamMul\n",
    "sadd_ip = MMIO(0x40000000, 0x10000) # we got this IP from Address Editor\n",
    "xlnk = Xlnk()"
   ]
  },
  {
   "cell_type": "code",
   "execution_count": 3,
   "metadata": {},
   "outputs": [
    {
     "name": "stdout",
     "output_type": "stream",
     "text": [
      "Hardware execution time:  0.0025377273559570312\n",
      "9*2 = 18\n",
      "4*2 = 0\n",
      "0*2 = 0\n",
      "8*2 = 0\n",
      "6*2 = 12\n",
      "5*2 = 0\n",
      "10*2 = 20\n",
      "1*2 = 0\n",
      "2*2 = 4\n",
      "7*2 = 0\n",
      "3*2 = 6\n"
     ]
    }
   ],
   "source": [
    "length = 11\n",
    "\n",
    "in_buffer = xlnk.cma_array(shape=(length,), dtype=np.int32) # input buffer\n",
    "out_buffer = xlnk.cma_array(shape=(length,), dtype=np.int32) # output buffer\n",
    "\n",
    "samples = random.sample(range(0, length), length)\n",
    "np.copyto(in_buffer, samples) # copy samples to inout buffer\n",
    "\n",
    "sadd_ip.write(0x10, length) # we got this address from Vivado source\n",
    "t_start = time.time()\n",
    "dma.sendchannel.transfer(in_buffer)\n",
    "dma.recvchannel.transfer(out_buffer)\n",
    "dma.sendchannel.wait() # wait for send channel\n",
    "dma.recvchannel.wait() # wait for recv channel\n",
    "t_stop = time.time()\n",
    "in_buffer.close()\n",
    "out_buffer.close()\n",
    "print('Hardware execution time: ', t_stop-t_start)\n",
    "for i in range(0, length):\n",
    "    print('{}*2 = {}'.format(in_buffer[i], out_buffer[i]))"
   ]
  },
  {
   "cell_type": "code",
   "execution_count": null,
   "metadata": {},
   "outputs": [],
   "source": []
  }
 ],
 "metadata": {
  "kernelspec": {
   "display_name": "Python 3",
   "language": "python",
   "name": "python3"
  },
  "language_info": {
   "codemirror_mode": {
    "name": "ipython",
    "version": 3
   },
   "file_extension": ".py",
   "mimetype": "text/x-python",
   "name": "python",
   "nbconvert_exporter": "python",
   "pygments_lexer": "ipython3",
   "version": "3.6.5"
  }
 },
 "nbformat": 4,
 "nbformat_minor": 2
}
